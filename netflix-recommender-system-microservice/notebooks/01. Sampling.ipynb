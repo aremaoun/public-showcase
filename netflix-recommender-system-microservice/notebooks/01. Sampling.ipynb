{
 "cells": [
  {
   "cell_type": "markdown",
   "metadata": {},
   "source": [
    "### Import of libraries"
   ]
  },
  {
   "cell_type": "code",
   "execution_count": null,
   "metadata": {},
   "outputs": [],
   "source": [
    "import pathlib\n",
    "import random\n",
    "import datetime\n",
    "import pandas as pd"
   ]
  },
  {
   "cell_type": "markdown",
   "metadata": {},
   "source": [
    "### Global variables"
   ]
  },
  {
   "cell_type": "code",
   "execution_count": null,
   "metadata": {},
   "outputs": [],
   "source": [
    "HOMEPATH = ! echo $HOME\n",
    "INPUT_DIRECTORY_PATH = pathlib.Path(HOMEPATH[0], \"Downloads/netflix-prize-data/\")\n",
    "OUTPUT_FILE_PATH = pathlib.Path(HOMEPATH[0], \"projects/public-showcase/netflix-recommender-system-microservice/data/netflix_prize_data_sample.csv\")\n",
    "MOVIE_INITIAL_SAMPLE_SIZE = 200\n",
    "MIN_MOVIES_BY_CUSTOMER = 3\n",
    "MAX_MOVIES_BY_CUSTOMER = 5\n",
    "CUSTOMER_SAMPLE_SIZE = 500\n",
    "MIN_RATINGS_BY_MOVIE_BY_STEP = 500\n",
    "MAX_RATINGS_BY_MOVIE_BY_STEP = 5000"
   ]
  },
  {
   "cell_type": "markdown",
   "metadata": {},
   "source": [
    "### Randomness seed"
   ]
  },
  {
   "cell_type": "code",
   "execution_count": null,
   "metadata": {},
   "outputs": [],
   "source": [
    "random.seed(1)"
   ]
  },
  {
   "cell_type": "markdown",
   "metadata": {},
   "source": [
    "### Sampling of movies"
   ]
  },
  {
   "cell_type": "code",
   "execution_count": null,
   "metadata": {},
   "outputs": [],
   "source": [
    "# I manually removed beforehand 1 non-UTF8 character from the source file that had caused an error on the file load\n",
    "with open(pathlib.Path(INPUT_DIRECTORY_PATH, \"movie_titles.csv\"), mode=\"r\") as file:\n",
    "    movies_all = [line.split(sep=\",\") for line in file]\n",
    "movies_sample = random.sample(movies_all, MOVIE_INITIAL_SAMPLE_SIZE) # the random sampling is weighed by the number of ratings associated\n",
    "movies_sample = [movie[:-1]+[movie[-1][:-1]] for movie in movies_sample]\n",
    "movies_sample"
   ]
  },
  {
   "cell_type": "markdown",
   "metadata": {},
   "source": [
    "### Ratings of the sampled movies"
   ]
  },
  {
   "cell_type": "code",
   "execution_count": null,
   "metadata": {},
   "outputs": [],
   "source": [
    "ratings_sample = []\n",
    "for ratings_file in [   \"combined_data_1.txt\",\n",
    "                        \"combined_data_2.txt\",\n",
    "                        \"combined_data_3.txt\",\n",
    "                        \"combined_data_4.txt\",\n",
    "]:\n",
    "    with open(pathlib.Path(INPUT_DIRECTORY_PATH, ratings_file), mode=\"r\") as file:\n",
    "        for line in file:\n",
    "            if line[-2] == \":\":\n",
    "                movie_id = line[:-2] # remove the line return\n",
    "                if movie_id in [movie[0] for movie in movies_sample]:\n",
    "                    movie_is_sampled = True\n",
    "                    next\n",
    "                else:\n",
    "                    movie_is_sampled = False\n",
    "                    next\n",
    "            else:\n",
    "                if not movie_is_sampled:\n",
    "                    next\n",
    "                else:\n",
    "                    complete_line = line.split(sep=\",\") + [x for x in movies_sample if x[0] == movie_id][0]\n",
    "                    complete_line[2] = complete_line[2][:-1]\n",
    "                    ratings_sample.append(complete_line)\n",
    "ratings_sample"
   ]
  },
  {
   "cell_type": "code",
   "execution_count": null,
   "metadata": {},
   "outputs": [],
   "source": [
    "print(f\"We have now {len(ratings_sample)} ratings.\")"
   ]
  },
  {
   "cell_type": "markdown",
   "metadata": {},
   "source": [
    "### We only consider movies within a certain range of ratings on the 3 periods (training, validation, prediction)"
   ]
  },
  {
   "cell_type": "code",
   "execution_count": null,
   "metadata": {},
   "outputs": [],
   "source": [
    "ratings_sample_df = pd.DataFrame([rating[:6] for rating in ratings_sample], columns=[\"customer_id\", \"rating\", \"rating_date\", \"movie_id\", \"release_year\", \"title\"])\n",
    "number_of_ratings_by_movie_training = ratings_sample_df[pd.DatetimeIndex(ratings_sample_df[\"rating_date\"]) <= datetime.datetime(2003, 12, 31)].groupby(\"movie_id\").size()  #.unique()\n",
    "number_of_ratings_by_movie_validation = ratings_sample_df[(pd.DatetimeIndex(ratings_sample_df[\"rating_date\"]) >= datetime.datetime(2004, 1, 1)) & (pd.DatetimeIndex(ratings_sample_df[\"rating_date\"]) <= datetime.datetime(2004, 12, 31))].groupby(\"movie_id\").size()\n",
    "number_of_ratings_by_movie_prediction = ratings_sample_df[(pd.DatetimeIndex(ratings_sample_df[\"rating_date\"]) >= datetime.datetime(2005, 1, 1))].groupby(\"movie_id\").size()\n",
    "\n",
    "movie_id_final_selection = set(number_of_ratings_by_movie_training.index[(number_of_ratings_by_movie_training >= MIN_RATINGS_BY_MOVIE_BY_STEP) & (number_of_ratings_by_movie_training <= MAX_RATINGS_BY_MOVIE_BY_STEP)]).intersection(set(number_of_ratings_by_movie_validation.index[(number_of_ratings_by_movie_validation >= MIN_RATINGS_BY_MOVIE_BY_STEP) & (number_of_ratings_by_movie_validation <= MAX_RATINGS_BY_MOVIE_BY_STEP)])).intersection(set(number_of_ratings_by_movie_prediction.index[(number_of_ratings_by_movie_prediction >= MIN_RATINGS_BY_MOVIE_BY_STEP) & (number_of_ratings_by_movie_prediction <= MAX_RATINGS_BY_MOVIE_BY_STEP)]))\n",
    "print(movie_id_final_selection)\n",
    "ratings_sample_df = ratings_sample_df[ratings_sample_df[\"movie_id\"].isin(movie_id_final_selection)]\n",
    "ratings_sample_df"
   ]
  },
  {
   "cell_type": "markdown",
   "metadata": {},
   "source": [
    "### We only consider users that have rated enough movies"
   ]
  },
  {
   "cell_type": "code",
   "execution_count": null,
   "metadata": {},
   "outputs": [],
   "source": [
    "ratings_count_per_customer_df = ratings_sample_df.groupby(\"customer_id\").count()[\"rating\"]\n",
    "users_with_enough_movie_ratings = list(ratings_count_per_customer_df[   (ratings_count_per_customer_df >= MIN_MOVIES_BY_CUSTOMER) & \n",
    "                                                                        (ratings_count_per_customer_df <= MAX_MOVIES_BY_CUSTOMER)\n",
    "                                        ].index\n",
    "                                  )\n",
    "ratings_sample_export_df = ratings_sample_df[ratings_sample_df[\"customer_id\"].isin(users_with_enough_movie_ratings)]\n",
    "ratings_sample_export_df"
   ]
  },
  {
   "cell_type": "markdown",
   "metadata": {},
   "source": [
    "### Sampling of customers"
   ]
  },
  {
   "cell_type": "code",
   "execution_count": null,
   "metadata": {},
   "outputs": [],
   "source": [
    "customer_sample = random.sample(list(set(ratings_sample_export_df.customer_id)), CUSTOMER_SAMPLE_SIZE)\n",
    "ratings_sample_export_df = ratings_sample_export_df[ratings_sample_export_df[\"customer_id\"].isin(customer_sample)]\n",
    "ratings_sample_export_df"
   ]
  },
  {
   "cell_type": "markdown",
   "metadata": {},
   "source": [
    "### File export"
   ]
  },
  {
   "cell_type": "code",
   "execution_count": null,
   "metadata": {},
   "outputs": [],
   "source": [
    "ratings_sample_export_df.to_csv(OUTPUT_FILE_PATH, sep=\",\", index = False)"
   ]
  }
 ],
 "metadata": {
  "kernelspec": {
   "display_name": "netflix-recommender-system-microservice",
   "language": "python",
   "name": "python3"
  },
  "language_info": {
   "codemirror_mode": {
    "name": "ipython",
    "version": 3
   },
   "file_extension": ".py",
   "mimetype": "text/x-python",
   "name": "python",
   "nbconvert_exporter": "python",
   "pygments_lexer": "ipython3",
   "version": "3.9.13"
  }
 },
 "nbformat": 4,
 "nbformat_minor": 2
}
